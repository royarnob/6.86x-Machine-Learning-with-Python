{
 "cells": [
  {
   "cell_type": "markdown",
   "metadata": {},
   "source": [
    "#### Feature Vector Demystified 1\n",
    "We have a movie recommending system that reads description of each movie and determines some important characteristics of the movie. In particular, it examines whether each of the criterion below is true for that movie:\n",
    "\n",
    "1. Is it a comedy movie?\n",
    "\n",
    "2. Is it an action movie?\n",
    "\n",
    "3. Was the movie directed by Spielberg?\n",
    "\n",
    "4. Do dinosaurs appear in the movie?\n",
    "\n",
    "5. Is it a Disney film?\n",
    "\n",
    "For example, when the recommending system reads descriptions of \"Jurassic Park\", the answers for the five questions above will be \"no, yes, yes, yes, no.\" On the other hand if the recommending system reads descriptions of \"High School Musical\", the answers will be \"no, no, no, no, yes\"\n",
    "\n",
    "The system converts \"yes\" into 1, \"no\" into 0, and makes a feature vector $X$ for each movie.\n",
    "\n",
    "\n",
    "**Question 1:** Now we have a comedy movie that is not an action movie, that was not directed by Spielberg, that does not have dinosaurs in it, but was produced by Disney. What is this movie's feature vector?\n",
    "\n",
    "$$\n",
    "[1, 0, 0, 0, 1]\n",
    "$$\n",
    "\n",
    "***"
   ]
  },
  {
   "cell_type": "markdown",
   "metadata": {},
   "source": [
    "#### Feature Vector Demystified 2\n",
    "\n",
    "**Question 2:** What is the dimension of the feature vector of this movie?\n",
    "\n",
    "5\n",
    "\n",
    "***"
   ]
  },
  {
   "cell_type": "markdown",
   "metadata": {},
   "source": [
    "#### Training Set vs Test Set 1\n",
    "\n",
    "The ultimate goal of our recommending system is to predict whether John will like this movie. Now suppose our movie recommending system knows whether John likes or dislikes the following movies:\n",
    "\n",
    "\n",
    "| Movie   | Comedy | Action | Spielberg | Dinosaur Appearance | Disney | Liked by John? |\n",
    "|---------|--------|--------|-----------|----------------------|--------|---------------|\n",
    "| Movie 1 | 0      | 1      | 0         | 0                    | 1      | 1             |\n",
    "| Movie 2 | 1      | 1      | 1         | 0                    | 0      | -1            |\n",
    "| Movie 3 | 0      | 1      | 0         | 1                    | 1      | 1             |\n",
    "| Movie 4 | 1      | 1      | 0         | 1                    | 0      | 1             |\n",
    "\n",
    "(Like is denoted as  and dislike as  in the above table) On the other hand, the movie recommender does not know whether John likes the following movies when building the model, but will know them after the model is built:\n",
    "\n",
    "| Movie   | Comedy | Action | Spielberg | Dinosaur Appearance | Disney | Liked by John?  |\n",
    "|---------|--------|--------|-----------|----------------------|--------|----------------|\n",
    "| Movie 5 | 1      | 0      | 0         | 0                    | 0      | Don't know yet |\n",
    "| Movie 6 | 0      | 0      | 0         | 0                    | 1      | Don't know yet |\n",
    "| Movie 7 | 0      | 0      | 0         | 1                    | 1      | Don't know yet |\n",
    "\n",
    "\n",
    "Assume that, when John evaluates movies, he only does so based on the five criteria.\n",
    "\n",
    "**Question 1:** What is the **label** of movie 1, based on the fact that John likes the movie?\n",
    "\n",
    "$1$\n",
    "\n",
    "***"
   ]
  },
  {
   "cell_type": "markdown",
   "metadata": {},
   "source": [
    "#### Training Set vs Test Set 2\n",
    "\n",
    "**Question 2:** What movies are in the **training set**? Select all those apply.\n",
    "\n",
    "☑ Movie 1 <br>\n",
    "☑ Movie 2 <br>\n",
    "☑ Movie 3 <br>\n",
    "☑ Movie 4\n",
    "\n",
    "***"
   ]
  },
  {
   "cell_type": "markdown",
   "metadata": {},
   "source": [
    "#### Training Set vs Test Set 3\n",
    "\n",
    "**Question 3:** What movies are in the **test set**? Select all those apply.\n",
    "\n",
    "☑ Movie 5 <br>\n",
    "☑ Movie 6 <br>\n",
    "☑ Movie 7 <br>\n",
    "\n",
    "***"
   ]
  }
 ],
 "metadata": {
  "language_info": {
   "name": "python"
  }
 },
 "nbformat": 4,
 "nbformat_minor": 2
}
